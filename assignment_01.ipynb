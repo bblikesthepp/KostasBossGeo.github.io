{
  "cells": [
    {
      "cell_type": "markdown",
      "metadata": {
        "id": "view-in-github",
        "colab_type": "text"
      },
      "source": [
        "<a href=\"https://colab.research.google.com/github/bblikesthepp/KostasBossGeo.github.io/blob/main/assignment_01.ipynb\" target=\"_parent\"><img src=\"https://colab.research.google.com/assets/colab-badge.svg\" alt=\"Open In Colab\"/></a>"
      ]
    },
    {
      "cell_type": "markdown",
      "metadata": {
        "id": "M03mp_e8Fi5F"
      },
      "source": [
        "Please fill in your name and that of your teammate.\n",
        "\n",
        "You: Ana Bog\n",
        "\n",
        "Teammate: Wayan Roos"
      ]
    },
    {
      "cell_type": "markdown",
      "metadata": {
        "id": "h5_MoCiKFi5J"
      },
      "source": [
        "# Introduction"
      ]
    },
    {
      "cell_type": "markdown",
      "metadata": {
        "id": "USibmIjuFi5J"
      },
      "source": [
        "Welcome to the first lab. Take a moment to familiarize yourself with this interactive notebook. Each notebook is composed of cells. Each cell can be [markdown](https://github.com/adam-p/markdown-here/wiki/Markdown-Cheatsheet) _(easy-to-format text)_ or **code** (Python 3). Markdown cells also accept $\\LaTeX$ formatting. Feel free to double-click on these textual cells (switching to edit mode) to see how they were made."
      ]
    },
    {
      "cell_type": "markdown",
      "metadata": {
        "id": "idVXdQ-aFi5K"
      },
      "source": [
        "When a cell is highlighted, it has two modes: command and input. Press `esc` to go to *command mode*, press `enter` to go into *edit/input mode*. There are a few shortcuts that only work in edit mode that can make your life easier. This will probably satiate your curiosity: [[link]](https://towardsdatascience.com/optimizing-jupyter-notebook-tips-tricks-and-nbextensions-26d75d502663)."
      ]
    },
    {
      "cell_type": "markdown",
      "metadata": {
        "id": "GAChsZvEFi5K"
      },
      "source": [
        "A few shortcuts that will make your life easier: you can always press `shift+enter` to evaluate the current cell; in *command mode*, press `a` to create a new cell above the current, `b` to create one below, `m` to convert to markdown, `y` to convert to code. Cells can be also merged and split (did you check the shortcuts?)."
      ]
    },
    {
      "cell_type": "markdown",
      "metadata": {
        "id": "ee3fyqO8Fi5L"
      },
      "source": [
        "And if you look for a command for which you don't know the shortcut yet, press `p` for the command palette and try typing what you are looking for in the search field."
      ]
    },
    {
      "cell_type": "markdown",
      "metadata": {
        "id": "fjS1ccb1Fi5L"
      },
      "source": [
        "### (Computational) kernel"
      ]
    },
    {
      "cell_type": "markdown",
      "metadata": {
        "id": "J7kqpDT6Fi5L"
      },
      "source": [
        "Jupyter as a server generates the interactive web interface that you are seeing (and using) now. To run the code, the server maintains a running instance of Python, what is called a _computational kernel_. Think of it as an open terminal window with the interactive Python open: each time you _evaluate_ a cell, the code is run on that \"kernel\", and the output is displayed below the input cell. Try to run the cell below:"
      ]
    },
    {
      "cell_type": "code",
      "execution_count": null,
      "metadata": {
        "colab": {
          "base_uri": "https://localhost:8080/"
        },
        "id": "0BMjC8cbFi5M",
        "outputId": "42842749-0ea4-4100-b633-c0be6314fd3f"
      },
      "outputs": [
        {
          "output_type": "stream",
          "name": "stdout",
          "text": [
            "5\n"
          ]
        }
      ],
      "source": [
        "a = 3+2\n",
        "print(a)"
      ]
    },
    {
      "cell_type": "markdown",
      "metadata": {
        "id": "OpPwarlHFi5N"
      },
      "source": [
        "Then you can use the variable `a` again in your next executions:"
      ]
    },
    {
      "cell_type": "code",
      "execution_count": null,
      "metadata": {
        "colab": {
          "base_uri": "https://localhost:8080/"
        },
        "id": "BLa2NaH5Fi5O",
        "outputId": "eaa629a2-ad27-4217-c82f-e61d06250cc9"
      },
      "outputs": [
        {
          "output_type": "stream",
          "name": "stdout",
          "text": [
            "5\n"
          ]
        }
      ],
      "source": [
        "print(a)"
      ]
    },
    {
      "cell_type": "markdown",
      "metadata": {
        "id": "5-iRTnEhFi5O"
      },
      "source": [
        "Just remember that the order in which you run the cells matters: for example try running next the cell below this text, and then the cell above this text once more."
      ]
    },
    {
      "cell_type": "code",
      "execution_count": null,
      "metadata": {
        "id": "xDP0sYOmFi5O"
      },
      "outputs": [],
      "source": [
        "a = 3-2"
      ]
    },
    {
      "cell_type": "markdown",
      "metadata": {
        "id": "8sSvnKGdFi5O"
      },
      "source": [
        "Check the `Kernel` menu on top of the page for options on controlling the underlying Python execution. For example, `Restart & Run All` terminates the current kernel, launches a new fresh one, then executes all (code) cells in the notebook in order. The `Interrupt` command is also useful if a bug gets the execution stuck."
      ]
    },
    {
      "cell_type": "markdown",
      "metadata": {
        "id": "b-6tAHI3Fi5O"
      },
      "source": [
        "### How to pass the lab?"
      ]
    },
    {
      "cell_type": "markdown",
      "metadata": {
        "id": "J2-q4UZFFi5O"
      },
      "source": [
        "Below you find the exercise questions. Each question awarding points is numbered and states the number of points like this: **[0pts]**. To answer a question, fill the cell below with your answer (markdown for text, code for implementation). Incorrect or incomplete answers are in principle worth 0 points: to assign partial reward is only up to teacher discretion. Overcomplete answers do not award extra points (though they are appreciated and will be kept under consideration). Save your work frequently! (`ctrl+s`)\n",
        "\n",
        "**You need at least 16 points (out of 24 available) to pass** (66%)."
      ]
    },
    {
      "cell_type": "markdown",
      "metadata": {
        "id": "Wlu2yQbLFi5P"
      },
      "source": [
        "# 1. Fundamentals"
      ]
    },
    {
      "cell_type": "markdown",
      "metadata": {
        "id": "g9UIc4VrFi5P"
      },
      "source": [
        "Let's start simple."
      ]
    },
    {
      "cell_type": "markdown",
      "metadata": {
        "id": "M5_tfqORFi5P"
      },
      "source": [
        "#### 1.1 **[1pt]** Write a sentence that correctly employs the words *problem*, *solution*, *model* and *parameters set*."
      ]
    },
    {
      "cell_type": "markdown",
      "metadata": {
        "id": "EnWdVn3mFi5P"
      },
      "source": [
        "In the context of Machine Learning, a *problem* is the formulation of what we want to achieve in terms of producing solutions for a specific need, the *solution* is the acceptable answer to that problem, the *model* is the parametric equation which defines a class of functions used to represent said problem in mathematical terms, and the *parameter set* is a set of numerical constants identifying the specific functions (aka the model instances).\n"
      ]
    },
    {
      "cell_type": "markdown",
      "metadata": {
        "id": "fWTK7nd8Fi5P"
      },
      "source": [
        "#### 1.2 **[1pt]** Write the equation of a linear model. You should use $\\LaTeX$ formatting, just wrap the equation in between dollar signs (e.g. `$\\LaTeX$`)."
      ]
    },
    {
      "cell_type": "markdown",
      "metadata": {
        "id": "H-JO8d1FFi5P"
      },
      "source": [
        "\n",
        "$y = mx + q$\n",
        "\n"
      ]
    },
    {
      "cell_type": "markdown",
      "metadata": {
        "id": "RYbIVwxQFi5P"
      },
      "source": [
        "\\#### 1.3 **[1pt]** When is a system of equations *overdetermined*?"
      ]
    },
    {
      "cell_type": "markdown",
      "metadata": {
        "id": "aGynYrDrFi5P"
      },
      "source": [
        "When there are more data points than unknown parameters in the system, which implies having a rich dataset with more observations than the dimensions of the input space."
      ]
    },
    {
      "cell_type": "markdown",
      "metadata": {
        "id": "SDg9-mGyFi5P"
      },
      "source": [
        "#### 1.4 **[1pt]** Describe with your own words (i.e. English) what is a *Training Dataset*.\n",
        "Mind, there is not an explicit definition in the slides, you should understand the math (your lecture notes may help)."
      ]
    },
    {
      "cell_type": "markdown",
      "metadata": {
        "id": "RiyWlze6Fi5Q"
      },
      "source": [
        "It is a set of real observed data that will be used to train the model in order to predict approximate (or sometimes exact) improved solutions for a specific problem. The dataset includes both input features and their corresponding outputs.\n",
        "\n",
        "*example* : in a linear equation, a specific $ y $ and $x$  would be one set of data on which the model would train on."
      ]
    },
    {
      "cell_type": "markdown",
      "metadata": {
        "id": "F1I0jkPuFi5Q"
      },
      "source": [
        "#### 1.5 **[1pt]** List the other two (main) learning paradigms beside *unsupervised learning*."
      ]
    },
    {
      "cell_type": "markdown",
      "metadata": {
        "id": "1BLAyZ5UFi5Q"
      },
      "source": [
        "\n",
        "\n",
        "*   **Supervised learning:** type of machine learning where the model is trained on labeled data, learning to predict outputs from inputs.\n",
        "*   **Reinforcement learning:** method where an agent learns to make decisions by taking actions in an environment to achieve maximum reward.\n",
        "\n"
      ]
    },
    {
      "cell_type": "markdown",
      "metadata": {
        "id": "ws08CrmzFi5Q"
      },
      "source": [
        "#### 1.6 **[1pt]** Which word describes when the model I use is too complex to capture the underlying simplicity of the data?\n",
        "Careful not to pick the wrong term."
      ]
    },
    {
      "cell_type": "markdown",
      "metadata": {
        "id": "Shq7ocn5Fi5Q"
      },
      "source": [
        "Overfit: the model captures inherent noise in the data."
      ]
    },
    {
      "cell_type": "markdown",
      "metadata": {
        "id": "sW8DpXm6Fi5Q"
      },
      "source": [
        "# 2. Error, loss and risk"
      ]
    },
    {
      "cell_type": "markdown",
      "metadata": {
        "id": "CZ6YcllpFi5Q"
      },
      "source": [
        "Understanding the concept of loss and risk is fundamental to comprehending the general idea of an \"error\". The whole ML is founded on the basis of recognizing error and minimizing it. These questions go into a separate section to highlight how important it is that you understand what is going on here."
      ]
    },
    {
      "cell_type": "markdown",
      "metadata": {
        "id": "BLKVDdoOFi5Q"
      },
      "source": [
        "#### 2.1 **[3pt]** About the *Loss Function*: why $L(\\hat y, y) = 0 \\;\\;\\text{if}\\;\\; \\hat y = y, \\;\\;\\forall y \\in Y$?\n",
        "\n",
        "---\n",
        "\n"
      ]
    },
    {
      "cell_type": "markdown",
      "metadata": {
        "id": "IHB6vYXZFi5R"
      },
      "source": [
        "Because $y$ is the correct label for $x$ and $\\hat y$ is the output of the model h. If $\\hat y = y$, then there is no error in the prediction and thus no loss, since the model's predictions match the true values for all possible instances."
      ]
    },
    {
      "cell_type": "markdown",
      "metadata": {
        "id": "6uB2kF-lFi5R"
      },
      "source": [
        "If you want to implement the *Empirical Risk* in Python, you need to understand its mathematical form. Let's say that the *Loss* is a simple difference between prediction and target:"
      ]
    },
    {
      "cell_type": "markdown",
      "metadata": {
        "id": "RTs0w_vfFi5R"
      },
      "source": [
        "#### 2.2 **[3pt]** What does $\\hat{R}(h) = \\sum_{i=1}^n L(h(x_i), y_i),\\;\\forall (x_i, y_i) \\in D$ mean?\n",
        "In English here, though you will get to code it in one of the next questions."
      ]
    },
    {
      "cell_type": "markdown",
      "metadata": {
        "id": "44ri9BIHFi5R"
      },
      "source": [
        "It means that the *empirical risk* $\\hat R (h)$ -which is an approximation of the real *expected loss* of a distribution based on our training dataset-- is calculated as the sum of the loss function evaluated at each data point in our sample, with $n$ the number of data points in our sample."
      ]
    },
    {
      "cell_type": "markdown",
      "metadata": {
        "id": "FgdDb5kfFi5R"
      },
      "source": [
        "# 3. Simplest learning"
      ]
    },
    {
      "cell_type": "markdown",
      "metadata": {
        "id": "rXW25rH-Fi5R"
      },
      "source": [
        "Enough concepts, let's have some fun. I hope you are familiar with Python -- if not yet, you should become so by the end of the course. If your confidence is low you should start a discussion on Moodle, so that you can all help each other (and help us help you)."
      ]
    },
    {
      "cell_type": "markdown",
      "metadata": {
        "id": "p6OFIbyeFi5S"
      },
      "source": [
        "Do you know about `lambda` functions in Python? You can write a method that returns a function. The function can be used as if it was a method defined with `def`. Only be careful about 1. `lambda`s always (implicitly) `return` the result of their computation, and 2. you cannot write multiline lambdas (go ask Guido van Rossum why). Still, using them is easier than it sounds:"
      ]
    },
    {
      "cell_type": "code",
      "execution_count": null,
      "metadata": {
        "id": "cP6ZqiH4Fi5T",
        "colab": {
          "base_uri": "https://localhost:8080/"
        },
        "outputId": "baf13aa0-1aa2-4ead-f01d-675bc0bd275d"
      },
      "outputs": [
        {
          "output_type": "execute_result",
          "data": {
            "text/plain": [
              "8"
            ]
          },
          "metadata": {},
          "execution_count": 1
        }
      ],
      "source": [
        "def add_n(n): return lambda x: n+x\n",
        "add_3 = add_n(3)\n",
        "add_3(5)"
      ]
    },
    {
      "cell_type": "markdown",
      "metadata": {
        "id": "Et-UDYGFFi5T"
      },
      "source": [
        "Ok how about we create and plot some artificial data? Study the code below, if there is any feature you are not yet familiar with you should make sure to learn it (ask on Moodle).\n",
        "\n",
        "I mean it. Later on you will be required to use all of these functionalities yourself. Verify early in the course what you need to refresh and what is entirely new, because later on studying software engineering while working on the (much!) harder assignments may become a problem."
      ]
    },
    {
      "cell_type": "code",
      "execution_count": null,
      "metadata": {
        "id": "mU1vup_XFi5T"
      },
      "outputs": [],
      "source": [
        "# These lines are required for our plotting function below\n",
        "%matplotlib inline\n",
        "import matplotlib.pyplot as plt\n",
        "import seaborn as sns\n",
        "# While this is the library for numerical manipulations\n",
        "import numpy as np\n",
        "\n",
        "# This is just some styling for the plotting library\n",
        "sns.set(rc={'figure.figsize':(8,6)}, style=\"whitegrid\")\n",
        "\n",
        "# Let's create the data from a function you should be acquainted with by now\n",
        "# (do you know lambdas yet? They are basically short, unnamed methods)\n",
        "trg_fn = lambda x: 2*x - 1\n",
        "# Of course we want the data to be a bit noisy\n",
        "some_noise = lambda: np.random.normal(0,3)\n",
        "# Let's generate it using numpy's linear space and a python list comprehension,\n",
        "# just to make sure you know these too\n",
        "data = [[x, trg_fn(x) + some_noise()] for x in np.linspace(-10, 10, 50)]\n",
        "\n",
        "# You will find commonly data treated by axis/column rather than coordinate pairs.\n",
        "# This aggregates data series belonging to the same dimension (feature)\n",
        "transpose = lambda lst: list(map(list, zip(*lst)))\n",
        "data_x, data_y = transpose(data)\n",
        "\n",
        "# And here's a canned plotting function that you are free to use (for now...)\n",
        "def plot_data_and_model(model=None, text=None):\n",
        "    ret = sns.scatterplot(x=data_x, y=data_y) # hard-coded data plotting because we can\n",
        "    if model is not None:\n",
        "        sns.lineplot(x=data_x, y=[model(x) for x in data_x], color='darkred')\n",
        "    if text is not None:\n",
        "        plt.title(text)\n",
        "    return ret"
      ]
    },
    {
      "cell_type": "markdown",
      "metadata": {
        "id": "zxugfFCfFi5T"
      },
      "source": [
        "Here is what the data you just generated looks like:"
      ]
    },
    {
      "cell_type": "code",
      "execution_count": null,
      "metadata": {
        "id": "XVqsydOtFi5T",
        "colab": {
          "base_uri": "https://localhost:8080/",
          "height": 452
        },
        "outputId": "d96a6453-93f7-439f-8703-b7343b56b387"
      },
      "outputs": [
        {
          "output_type": "display_data",
          "data": {
            "text/plain": [
              "<Figure size 640x480 with 1 Axes>"
            ],
            "image/png": "[encoded data removed]"
          },
          "metadata": {}
        }
      ],
      "source": [
        "plot_data_and_model(text=\"Here is what the data looks like (without model)\");"
      ]
    },
    {
      "cell_type": "markdown",
      "metadata": {
        "id": "zdsmF9IRFi5U"
      },
      "source": [
        "And here is what it looks like if you cheat and plot the underlying function (ideally your final, learned model should look similar)"
      ]
    },
    {
      "cell_type": "code",
      "execution_count": null,
      "metadata": {
        "id": "pZlw-7ciFi5U",
        "colab": {
          "base_uri": "https://localhost:8080/",
          "height": 469
        },
        "outputId": "3d218ca9-8727-4472-a897-21c3503ae40b"
      },
      "outputs": [
        {
          "output_type": "execute_result",
          "data": {
            "text/plain": [
              "<Axes: title={'center': 'Data with generating function'}>"
            ]
          },
          "metadata": {},
          "execution_count": 16
        },
        {
          "output_type": "display_data",
          "data": {
            "text/plain": [
              "<Figure size 640x480 with 1 Axes>"
            ],
            "image/png": "[encoded data removed]"
          },
          "metadata": {}
        }
      ],
      "source": [
        "plot_data_and_model(trg_fn, text=\"Data with generating function\")"
      ]
    },
    {
      "cell_type": "markdown",
      "metadata": {
        "id": "a7rTiQ5pFi5U"
      },
      "source": [
        "#### 3.1 **[2pt]** Write your linear model as a method that takes `m` and `q` as input, and return a linear function of the form `mx + q`."
      ]
    },
    {
      "cell_type": "code",
      "execution_count": null,
      "metadata": {
        "id": "e3LTkDVEFi5U"
      },
      "outputs": [],
      "source": [
        "def linMod(m,q): return lambda x: m*x+q"
      ]
    },
    {
      "cell_type": "markdown",
      "metadata": {
        "id": "zRduQTEkFi5U"
      },
      "source": [
        "#### 3.2 **[2pt]** Write your loss as a method that takes an `x` and a target and returns the absolute value of their difference\n",
        "(think: what happens if we forget the absolute value?)"
      ]
    },
    {
      "cell_type": "code",
      "execution_count": null,
      "metadata": {
        "id": "LftyEP2YFi5V"
      },
      "outputs": [],
      "source": [
        "def lossCalc(x, target):\n",
        "   result=np.abs(x-target)\n",
        "   return result\n"
      ]
    },
    {
      "cell_type": "markdown",
      "metadata": {
        "id": "U86-iynaFi5V"
      },
      "source": [
        "#### 3.3 **[2pt]** Write your risk as a method (or lambda) that takes a model as input, and returns the total loss over our (hard-coded) data"
      ]
    },
    {
      "cell_type": "code",
      "execution_count": null,
      "metadata": {
        "id": "siEhvtOTFi5V"
      },
      "outputs": [],
      "source": [
        "def riskCalc(model):\n",
        "  return sum(lossCalc(model(x),y) for x,y in data)"
      ]
    },
    {
      "cell_type": "markdown",
      "metadata": {
        "id": "RdBeNVtnFi5V"
      },
      "source": [
        "Here is an example of a loop that generates random numbers and maintains a *minimum*.  \n",
        "(think: will you need to minimize or maximize the risk of your model?)"
      ]
    },
    {
      "cell_type": "code",
      "execution_count": null,
      "metadata": {
        "id": "a9_foKnVFi5V",
        "colab": {
          "base_uri": "https://localhost:8080/",
          "height": 517
        },
        "outputId": "c1d055d2-25b3-40a0-8460-5f3a8d449993"
      },
      "outputs": [
        {
          "output_type": "stream",
          "name": "stdout",
          "text": [
            "[-0.9148205481342524]\n",
            "[-0.9148205481342524, -2.068183280989973]\n",
            "[-0.9148205481342524, -2.068183280989973, -2.6370403440677106]\n",
            "[-0.9148205481342524, -2.068183280989973, -2.6370403440677106, -2.859840494777973]\n",
            "[-0.9148205481342524, -2.068183280989973, -2.6370403440677106, -2.859840494777973, -2.862423548537838]\n"
          ]
        },
        {
          "output_type": "display_data",
          "data": {
            "text/plain": [
              "<Figure size 640x480 with 1 Axes>"
            ],
            "image/png": "[encoded data removed]"
          },
          "metadata": {}
        }
      ],
      "source": [
        "import numpy as np\n",
        "import matplotlib.pyplot as plt\n",
        "import seaborn as sns\n",
        "min_guess = np.Infinity # higher than highest possible\n",
        "\n",
        "best_guesses = []\n",
        "for _ in range(100):\n",
        "    guess = np.random.uniform(-3,3)\n",
        "    if guess < min_guess:\n",
        "        min_guess = guess\n",
        "        best_guesses.append(min_guess)\n",
        "        print(best_guesses)\n",
        "\n",
        "sns.lineplot(x=range(len(best_guesses)), y=best_guesses);\n"
      ]
    },
    {
      "cell_type": "markdown",
      "metadata": {
        "id": "743nneZLFi5W"
      },
      "source": [
        "TIP: it is always useful to visualize how the loss decreases over time, especially for debugging purposes. You can do the same next for your errors/losses."
      ]
    },
    {
      "cell_type": "markdown",
      "metadata": {
        "id": "UjgEH6K5Fi5W"
      },
      "source": [
        "#### 3.4 **[6pt]** Randomly guess a model's parameters 1000 times. Then plot it using the call below.\n",
        "```python\n",
        "plot_data_and_model(lin_model(m, q), text=f\"m={round(m,2)}    q={round(q,2)}\")        \n",
        "```\n",
        "Make sure you understand how string interpolation works when using the format `f\"hello w{2+1-3}rld\"`.  \n",
        "You will need to modify the loop above in order to maintain both a best guess for your model and its corresponding best risk/error."
      ]
    },
    {
      "cell_type": "code",
      "execution_count": null,
      "metadata": {
        "id": "n89KWwlgFi5W",
        "colab": {
          "base_uri": "https://localhost:8080/",
          "height": 539
        },
        "outputId": "56aa6083-84a9-490d-aea8-b58e886d53c6"
      },
      "outputs": [
        {
          "output_type": "stream",
          "name": "stdout",
          "text": [
            "Minimal risk found for one dataset and 1000 iterations on model: 116.57083542119155\n",
            "\n",
            "Risk decrease for each new optimized found pair of parameters: [674.3324237103807, 154.12845889436767, 120.00806300536328, 119.06281467381434, 117.94471254078806, 117.81925392548342, 116.57083542119155]\n",
            "\n"
          ]
        },
        {
          "output_type": "execute_result",
          "data": {
            "text/plain": [
              "<Axes: title={'center': 'm=2.04    q=-0.17'}>"
            ]
          },
          "metadata": {},
          "execution_count": 27
        },
        {
          "output_type": "display_data",
          "data": {
            "text/plain": [
              "<Figure size 640x480 with 1 Axes>"
            ],
            "image/png": "[encoded data removed]"
          },
          "metadata": {}
        }
      ],
      "source": [
        "min_risk = np.Infinity\n",
        "best_guesses= []\n",
        "riskDecreaseView = set(best_guesses)\n",
        "\n",
        "#Here is the \"learning\" part\n",
        "for _ in range(1000):\n",
        "    guessM,guessQ = np.random.uniform(-3,3), np.random.uniform(-3,3)\n",
        "    current_risk = riskCalc(linMod(guessM, guessQ))\n",
        "    if current_risk < min_risk :\n",
        "        min_guessM, min_guessQ = guessM, guessQ\n",
        "        min_risk = current_risk\n",
        "        if min_risk not in best_guesses:\n",
        "          best_guesses.append(min_risk) # this is needed for visualization of risk decrease in the last plot (Risk function)\n",
        "\n",
        "\n",
        "print(\"Minimal risk found for one dataset and 1000 iterations on model: \" + str(min_risk))\n",
        "\n",
        "print(\"\\nRisk decrease for each new optimized found pair of parameters: \" + str(best_guesses) + \"\\n\")\n",
        "\n",
        "\n",
        "#linear approximate function of the dataset with minimal risk (the more loops we do to find better values, the better our learning model will be)\n",
        "plot_data_and_model(linMod(min_guessM, min_guessQ), text=f\"m={round(min_guessM,2)}    q={round(min_guessQ,2)}\")"
      ]
    },
    {
      "cell_type": "markdown",
      "source": [
        "Here is my Risk function:"
      ],
      "metadata": {
        "id": "81UavI_k0yO5"
      }
    },
    {
      "cell_type": "code",
      "source": [
        "sns.lineplot(x=range(len(best_guesses)), y=best_guesses)"
      ],
      "metadata": {
        "colab": {
          "base_uri": "https://localhost:8080/",
          "height": 447
        },
        "id": "WpmdQECS0l1F",
        "outputId": "71886714-4bba-4579-e063-a9fa9f08bba4"
      },
      "execution_count": null,
      "outputs": [
        {
          "output_type": "execute_result",
          "data": {
            "text/plain": [
              "<Axes: >"
            ]
          },
          "metadata": {},
          "execution_count": 23
        },
        {
          "output_type": "display_data",
          "data": {
            "text/plain": [
              "<Figure size 640x480 with 1 Axes>"
            ],
            "image/png": "[encoded data removed]"
          },
          "metadata": {}
        }
      ]
    }
  ],
  "metadata": {
    "kernelspec": {
      "display_name": "Python 3 (ipykernel)",
      "language": "python",
      "name": "python3"
    },
    "language_info": {
      "codemirror_mode": {
        "name": "ipython",
        "version": 3
      },
      "file_extension": ".py",
      "mimetype": "text/x-python",
      "name": "python",
      "nbconvert_exporter": "python",
      "pygments_lexer": "ipython3",
      "version": "3.10.12"
    },
    "colab": {
      "provenance": [],
      "include_colab_link": true
    }
  },
  "nbformat": 4,
  "nbformat_minor": 0
}